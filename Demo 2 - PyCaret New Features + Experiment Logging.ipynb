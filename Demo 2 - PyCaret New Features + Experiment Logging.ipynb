{
 "cells": [
  {
   "cell_type": "code",
   "execution_count": null,
   "id": "bb58708b",
   "metadata": {},
   "outputs": [],
   "source": [
    "from pycaret.datasets import get_data\n",
    "data = get_data('heart')"
   ]
  },
  {
   "cell_type": "code",
   "execution_count": null,
   "id": "f4bec953",
   "metadata": {},
   "outputs": [],
   "source": [
    "from pycaret.classification import *\n",
    "s = setup(data, target = 'DEATH', session_id = 123, log_experiment = True, experiment_name = 'heart1')"
   ]
  },
  {
   "cell_type": "code",
   "execution_count": null,
   "id": "e8b943d7",
   "metadata": {},
   "outputs": [],
   "source": [
    "best = compare_models()"
   ]
  },
  {
   "cell_type": "code",
   "execution_count": null,
   "id": "6bb645ce",
   "metadata": {},
   "outputs": [],
   "source": [
    "# experiment logging\n",
    "# !mlflow ui"
   ]
  },
  {
   "cell_type": "markdown",
   "id": "5b323ab4",
   "metadata": {},
   "source": [
    "# Check Fairness"
   ]
  },
  {
   "cell_type": "code",
   "execution_count": null,
   "id": "96f5dd0f",
   "metadata": {
    "scrolled": false
   },
   "outputs": [],
   "source": [
    "check_fairness(best, sensitive_features = ['MD_50'])"
   ]
  },
  {
   "cell_type": "markdown",
   "id": "4659b3d6",
   "metadata": {},
   "source": [
    "# Create App"
   ]
  },
  {
   "cell_type": "code",
   "execution_count": null,
   "id": "d8938923",
   "metadata": {
    "scrolled": false
   },
   "outputs": [],
   "source": [
    "create_app(best)"
   ]
  },
  {
   "cell_type": "markdown",
   "id": "4b84f24c",
   "metadata": {},
   "source": [
    "# Dashboard"
   ]
  },
  {
   "cell_type": "code",
   "execution_count": null,
   "id": "f40fc6d1",
   "metadata": {},
   "outputs": [],
   "source": [
    "dashboard(best)"
   ]
  },
  {
   "cell_type": "markdown",
   "id": "a83f4979",
   "metadata": {},
   "source": [
    "# Deep Check"
   ]
  },
  {
   "cell_type": "code",
   "execution_count": null,
   "id": "509d2218",
   "metadata": {
    "scrolled": true
   },
   "outputs": [],
   "source": [
    "deep_check(best)"
   ]
  },
  {
   "cell_type": "markdown",
   "id": "aff3518d",
   "metadata": {},
   "source": [
    "# Create API"
   ]
  },
  {
   "cell_type": "code",
   "execution_count": null,
   "id": "decd0337",
   "metadata": {},
   "outputs": [],
   "source": [
    "best = create_model('dt')"
   ]
  },
  {
   "cell_type": "code",
   "execution_count": null,
   "id": "a063995c",
   "metadata": {},
   "outputs": [],
   "source": [
    "create_api(best, 'my_first_api')"
   ]
  },
  {
   "cell_type": "code",
   "execution_count": null,
   "id": "a92a93a0",
   "metadata": {},
   "outputs": [],
   "source": [
    "!python my_first_api.py"
   ]
  },
  {
   "cell_type": "markdown",
   "id": "761056a1",
   "metadata": {},
   "source": [
    "# Create Docker"
   ]
  },
  {
   "cell_type": "code",
   "execution_count": null,
   "id": "06228303",
   "metadata": {},
   "outputs": [],
   "source": [
    "create_docker('my_first_api')"
   ]
  },
  {
   "cell_type": "code",
   "execution_count": null,
   "id": "d1c7ab0f",
   "metadata": {},
   "outputs": [],
   "source": [
    "# %load requirements.txt"
   ]
  },
  {
   "cell_type": "code",
   "execution_count": null,
   "id": "671dd14b",
   "metadata": {},
   "outputs": [],
   "source": [
    "# %load Dockerfile"
   ]
  }
 ],
 "metadata": {
  "kernelspec": {
   "display_name": "pycaret-new",
   "language": "python",
   "name": "pycaret-new"
  },
  "language_info": {
   "codemirror_mode": {
    "name": "ipython",
    "version": 3
   },
   "file_extension": ".py",
   "mimetype": "text/x-python",
   "name": "python",
   "nbconvert_exporter": "python",
   "pygments_lexer": "ipython3",
   "version": "3.8.12"
  }
 },
 "nbformat": 4,
 "nbformat_minor": 5
}
